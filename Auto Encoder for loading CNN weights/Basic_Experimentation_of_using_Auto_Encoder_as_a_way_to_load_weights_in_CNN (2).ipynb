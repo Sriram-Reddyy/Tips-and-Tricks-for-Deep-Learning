{
  "nbformat": 4,
  "nbformat_minor": 0,
  "metadata": {
    "colab": {
      "name": "Basic Experimentation of using Auto-Encoder as a way to load weights in CNN.ipynb",
      "provenance": [],
      "collapsed_sections": []
    },
    "kernelspec": {
      "name": "python3",
      "display_name": "Python 3"
    },
    "accelerator": "GPU"
  },
  "cells": [
    {
      "cell_type": "code",
      "metadata": {
        "id": "DHgIk8PH9TL2",
        "colab_type": "code",
        "colab": {}
      },
      "source": [
        "import tensorflow as tf\n",
        "import imageio\n",
        "import matplotlib.pyplot as plt\n",
        "import numpy as np\n",
        "import pandas as pd\n",
        "import keras\n",
        "import PIL\n",
        "from IPython import display\n",
        "import os\n",
        "import glob"
      ],
      "execution_count": 89,
      "outputs": []
    },
    {
      "cell_type": "code",
      "metadata": {
        "id": "jGMhFkB797nD",
        "colab_type": "code",
        "colab": {
          "base_uri": "https://localhost:8080/",
          "height": 33
        },
        "outputId": "d7608368-412d-4676-fb59-4cf0a656ac08"
      },
      "source": [
        "len(tf.config.experimental.list_physical_devices('GPU'))"
      ],
      "execution_count": 90,
      "outputs": [
        {
          "output_type": "execute_result",
          "data": {
            "text/plain": [
              "1"
            ]
          },
          "metadata": {
            "tags": []
          },
          "execution_count": 90
        }
      ]
    },
    {
      "cell_type": "code",
      "metadata": {
        "id": "MGIbqg5S-G1j",
        "colab_type": "code",
        "colab": {}
      },
      "source": [
        "(training_images,training_labels),(testing_images,testing_labels) = tf.keras.datasets.cifar10.load_data()"
      ],
      "execution_count": 163,
      "outputs": []
    },
    {
      "cell_type": "code",
      "metadata": {
        "id": "w-cm4njq-G3Q",
        "colab_type": "code",
        "colab": {
          "base_uri": "https://localhost:8080/",
          "height": 33
        },
        "outputId": "c773ccc0-277f-4e71-ee18-ac7b30edeed6"
      },
      "source": [
        "training_images.shape"
      ],
      "execution_count": 92,
      "outputs": [
        {
          "output_type": "execute_result",
          "data": {
            "text/plain": [
              "(50000, 32, 32, 3)"
            ]
          },
          "metadata": {
            "tags": []
          },
          "execution_count": 92
        }
      ]
    },
    {
      "cell_type": "code",
      "metadata": {
        "id": "CLPvzykL-G71",
        "colab_type": "code",
        "colab": {
          "base_uri": "https://localhost:8080/",
          "height": 33
        },
        "outputId": "ad00e944-7ee2-4579-e07b-729d65a0d19b"
      },
      "source": [
        "testing_images.shape"
      ],
      "execution_count": 93,
      "outputs": [
        {
          "output_type": "execute_result",
          "data": {
            "text/plain": [
              "(10000, 32, 32, 3)"
            ]
          },
          "metadata": {
            "tags": []
          },
          "execution_count": 93
        }
      ]
    },
    {
      "cell_type": "code",
      "metadata": {
        "id": "M9vXp02G_ycQ",
        "colab_type": "code",
        "colab": {}
      },
      "source": [
        "import random\n"
      ],
      "execution_count": 94,
      "outputs": []
    },
    {
      "cell_type": "code",
      "metadata": {
        "id": "oQoMvs8s-G_T",
        "colab_type": "code",
        "colab": {
          "base_uri": "https://localhost:8080/",
          "height": 282
        },
        "outputId": "548ff5ea-41ed-48cc-fe40-33550f6342c5"
      },
      "source": [
        "plt.imshow((training_images[random.randint(0,50000)]))"
      ],
      "execution_count": 164,
      "outputs": [
        {
          "output_type": "execute_result",
          "data": {
            "text/plain": [
              "<matplotlib.image.AxesImage at 0x7fedd9e6c898>"
            ]
          },
          "metadata": {
            "tags": []
          },
          "execution_count": 164
        },
        {
          "output_type": "display_data",
          "data": {
            "image/png": "[encoded data removed]",
            "text/plain": [
              "<Figure size 432x288 with 1 Axes>"
            ]
          },
          "metadata": {
            "tags": [],
            "needs_background": "light"
          }
        }
      ]
    },
    {
      "cell_type": "code",
      "metadata": {
        "id": "-dPWjdnb-HFh",
        "colab_type": "code",
        "colab": {
          "base_uri": "https://localhost:8080/",
          "height": 133
        },
        "outputId": "e918a8a1-118e-4331-cd46-d2e0f6403f4d"
      },
      "source": [
        "training_labels"
      ],
      "execution_count": 96,
      "outputs": [
        {
          "output_type": "execute_result",
          "data": {
            "text/plain": [
              "array([[6],\n",
              "       [9],\n",
              "       [9],\n",
              "       ...,\n",
              "       [9],\n",
              "       [1],\n",
              "       [1]], dtype=uint8)"
            ]
          },
          "metadata": {
            "tags": []
          },
          "execution_count": 96
        }
      ]
    },
    {
      "cell_type": "code",
      "metadata": {
        "id": "CDz12w0FBeHt",
        "colab_type": "code",
        "colab": {}
      },
      "source": [
        "def root_mean_squared_error(y_true, y_pred):\n",
        "    return K.sqrt(K.mean(K.square(y_pred - y_true))) "
      ],
      "execution_count": 165,
      "outputs": []
    },
    {
      "cell_type": "code",
      "metadata": {
        "id": "8wkWf2kA-HJe",
        "colab_type": "code",
        "colab": {}
      },
      "source": [
        "from keras.layers import Input, Dense, Conv2D, MaxPooling2D, UpSampling2D\n",
        "from keras.models import Model\n",
        "from keras import backend as K\n",
        "input_img = Input(shape=(32,32,3))  # \n",
        "x = Conv2D(16, (3, 3), activation='relu', padding='same')(input_img)\n",
        "x = MaxPooling2D((2, 2), padding='same')(x)\n",
        "x = Conv2D(8, (3, 3), activation='relu', padding='same')(x)\n",
        "x = MaxPooling2D((2, 2), padding='same')(x)\n",
        "x = Conv2D(8, (3, 3), activation='relu', padding='same')(x)\n",
        "encoded = MaxPooling2D((2, 2), padding='same')(x)\n",
        "encoder = Model(input_img,encoded)\n",
        "# at this point the representation is (4, 4, 8) i.e. 128-dimensional\n",
        "\n",
        "input_img = Input(shape = (4,4,8))\n",
        "x = UpSampling2D((2,2))(input_img)\n",
        "x = Conv2D(8, (3, 3), activation='relu', padding='same')(x)\n",
        "x = UpSampling2D((2, 2))(x)\n",
        "x = Conv2D(8, (3, 3), activation='relu', padding='same')(x)\n",
        "x = UpSampling2D((2, 2))(x)\n",
        "decoded = Conv2D(3, (3, 3), padding='same')(x)\n",
        "decoder = Model(input_img,decoded)\n",
        "input_img = Input((32,32,3))\n",
        "autoencoder = Model(input_img, decoder(encoder(input_img)))\n",
        "autoencoder.compile(optimizer='adam', loss=root_mean_squared_error,metrics=[\"accuracy\"])"
      ],
      "execution_count": 270,
      "outputs": []
    },
    {
      "cell_type": "code",
      "metadata": {
        "id": "BqGDEl8wiUZ_",
        "colab_type": "code",
        "colab": {
          "base_uri": "https://localhost:8080/",
          "height": 250
        },
        "outputId": "15f2a5ec-6c3d-41d5-e937-9b737fe88aa8"
      },
      "source": [
        "  autoencoder.summary()"
      ],
      "execution_count": 218,
      "outputs": [
        {
          "output_type": "stream",
          "text": [
            "Model: \"model_43\"\n",
            "_________________________________________________________________\n",
            "Layer (type)                 Output Shape              Param #   \n",
            "=================================================================\n",
            "input_44 (InputLayer)        (None, 32, 32, 3)         0         \n",
            "_________________________________________________________________\n",
            "model_41 (Model)             (None, 4, 4, 8)           2192      \n",
            "_________________________________________________________________\n",
            "model_42 (Model)             (None, 32, 32, 3)         1387      \n",
            "=================================================================\n",
            "Total params: 3,579\n",
            "Trainable params: 3,579\n",
            "Non-trainable params: 0\n",
            "_________________________________________________________________\n"
          ],
          "name": "stdout"
        }
      ]
    },
    {
      "cell_type": "code",
      "metadata": {
        "id": "q_99Yv6Hh4UF",
        "colab_type": "code",
        "colab": {
          "base_uri": "https://localhost:8080/",
          "height": 383
        },
        "outputId": "9160b274-e6cf-44ba-88b8-c5e09a6fbb19"
      },
      "source": [
        ""
      ],
      "execution_count": 213,
      "outputs": [
        {
          "output_type": "stream",
          "text": [
            "Model: \"model_38\"\n",
            "_________________________________________________________________\n",
            "Layer (type)                 Output Shape              Param #   \n",
            "=================================================================\n",
            "input_39 (InputLayer)        (None, 4, 4, 8)           0         \n",
            "_________________________________________________________________\n",
            "up_sampling2d_54 (UpSampling (None, 8, 8, 8)           0         \n",
            "_________________________________________________________________\n",
            "conv2d_129 (Conv2D)          (None, 8, 8, 8)           584       \n",
            "_________________________________________________________________\n",
            "up_sampling2d_55 (UpSampling (None, 16, 16, 8)         0         \n",
            "_________________________________________________________________\n",
            "conv2d_130 (Conv2D)          (None, 16, 16, 8)         584       \n",
            "_________________________________________________________________\n",
            "up_sampling2d_56 (UpSampling (None, 32, 32, 8)         0         \n",
            "_________________________________________________________________\n",
            "conv2d_131 (Conv2D)          (None, 32, 32, 3)         219       \n",
            "=================================================================\n",
            "Total params: 1,387\n",
            "Trainable params: 1,387\n",
            "Non-trainable params: 0\n",
            "_________________________________________________________________\n"
          ],
          "name": "stdout"
        }
      ]
    },
    {
      "cell_type": "code",
      "metadata": {
        "id": "DbCQDqsUDlZP",
        "colab_type": "code",
        "colab": {
          "base_uri": "https://localhost:8080/",
          "height": 583
        },
        "outputId": "481a7b8c-9b89-4b06-8889-d330881d38a4"
      },
      "source": [
        "autoencoder.summary()"
      ],
      "execution_count": 202,
      "outputs": [
        {
          "output_type": "stream",
          "text": [
            "Model: \"model_28\"\n",
            "_________________________________________________________________\n",
            "Layer (type)                 Output Shape              Param #   \n",
            "=================================================================\n",
            "input_29 (InputLayer)        (None, 32, 32, 3)         0         \n",
            "_________________________________________________________________\n",
            "conv2d_102 (Conv2D)          (None, 32, 32, 16)        448       \n",
            "_________________________________________________________________\n",
            "max_pooling2d_49 (MaxPooling (None, 16, 16, 16)        0         \n",
            "_________________________________________________________________\n",
            "conv2d_103 (Conv2D)          (None, 16, 16, 8)         1160      \n",
            "_________________________________________________________________\n",
            "max_pooling2d_50 (MaxPooling (None, 8, 8, 8)           0         \n",
            "_________________________________________________________________\n",
            "conv2d_104 (Conv2D)          (None, 8, 8, 8)           584       \n",
            "_________________________________________________________________\n",
            "max_pooling2d_51 (MaxPooling (None, 4, 4, 8)           0         \n",
            "_________________________________________________________________\n",
            "up_sampling2d_45 (UpSampling (None, 8, 8, 8)           0         \n",
            "_________________________________________________________________\n",
            "conv2d_105 (Conv2D)          (None, 8, 8, 8)           584       \n",
            "_________________________________________________________________\n",
            "up_sampling2d_46 (UpSampling (None, 16, 16, 8)         0         \n",
            "_________________________________________________________________\n",
            "conv2d_106 (Conv2D)          (None, 16, 16, 8)         584       \n",
            "_________________________________________________________________\n",
            "up_sampling2d_47 (UpSampling (None, 32, 32, 8)         0         \n",
            "_________________________________________________________________\n",
            "conv2d_107 (Conv2D)          (None, 32, 32, 3)         219       \n",
            "=================================================================\n",
            "Total params: 3,579\n",
            "Trainable params: 3,579\n",
            "Non-trainable params: 0\n",
            "_________________________________________________________________\n"
          ],
          "name": "stdout"
        }
      ]
    },
    {
      "cell_type": "code",
      "metadata": {
        "id": "J004WCkm-HM4",
        "colab_type": "code",
        "colab": {}
      },
      "source": [
        "training_images = training_images/255\n",
        "testing_images = testing_images/255"
      ],
      "execution_count": 169,
      "outputs": []
    },
    {
      "cell_type": "code",
      "metadata": {
        "id": "-zi-jiCI-HEQ",
        "colab_type": "code",
        "colab": {
          "base_uri": "https://localhost:8080/",
          "height": 282
        },
        "outputId": "d0f8c5d4-f38d-4586-f226-2f93d56ce50b"
      },
      "source": [
        "plt.imshow((training_images[random.randint(0,50000)]))"
      ],
      "execution_count": 219,
      "outputs": [
        {
          "output_type": "execute_result",
          "data": {
            "text/plain": [
              "<matplotlib.image.AxesImage at 0x7fedda437358>"
            ]
          },
          "metadata": {
            "tags": []
          },
          "execution_count": 219
        },
        {
          "output_type": "display_data",
          "data": {
            "image/png": "[encoded data removed]",
            "text/plain": [
              "<Figure size 432x288 with 1 Axes>"
            ]
          },
          "metadata": {
            "tags": [],
            "needs_background": "light"
          }
        }
      ]
    },
    {
      "cell_type": "code",
      "metadata": {
        "id": "MwlvdbwqDU1P",
        "colab_type": "code",
        "colab": {}
      },
      "source": [
        "\n",
        "# updatable plot\n",
        "# a minimal example (sort of)\n",
        "\n",
        "class PlotLosses(keras.callbacks.Callback):\n",
        "    def on_train_begin(self, logs={}):\n",
        "        self.i = 0\n",
        "        self.x = []\n",
        "        self.losses = []\n",
        "        self.val_losses = []\n",
        "        \n",
        "        self.fig = plt.figure()\n",
        "        \n",
        "        self.logs = []\n",
        "\n",
        "    def on_epoch_end(self, epoch, logs={}):\n",
        "        \n",
        "        self.logs.append(logs)\n",
        "        self.x.append(self.i)\n",
        "        self.losses.append(logs.get('loss'))\n",
        "        self.val_losses.append(logs.get('val_loss'))\n",
        "        self.i += 1\n",
        "        \n",
        "        clear_output(wait=True)\n",
        "        plt.plot(self.x, self.losses, label=\"loss\")\n",
        "        plt.plot(self.x, self.val_losses, label=\"val_loss\")\n",
        "        plt.legend()\n",
        "        plt.show();\n",
        "        \n",
        "plot_losses = PlotLosses()"
      ],
      "execution_count": 171,
      "outputs": []
    },
    {
      "cell_type": "markdown",
      "metadata": {
        "id": "BhLmYN5FFD8g",
        "colab_type": "text"
      },
      "source": [
        ""
      ]
    },
    {
      "cell_type": "code",
      "metadata": {
        "id": "tEJ-uWEv-HBm",
        "colab_type": "code",
        "colab": {}
      },
      "source": [
        "history = autoencoder.fit(training_images,training_images,\n",
        "                epochs=50,\n",
        "                batch_size=128,\n",
        "                shuffle=True,\n",
        "                validation_data=(testing_images,testing_images),\n",
        "                verbose=True)"
      ],
      "execution_count": null,
      "outputs": []
    },
    {
      "cell_type": "code",
      "metadata": {
        "id": "nEeL-64UqjL1",
        "colab_type": "code",
        "colab": {}
      },
      "source": [
        "encoder.save(\"/content/encoder-weights.h5\")"
      ],
      "execution_count": 275,
      "outputs": []
    },
    {
      "cell_type": "code",
      "metadata": {
        "id": "tS8oaCXMV1lV",
        "colab_type": "code",
        "colab": {
          "base_uri": "https://localhost:8080/",
          "height": 383
        },
        "outputId": "3473ba8d-6df5-4101-f6e5-fca441b36bf2"
      },
      "source": [
        "decoder.summary()"
      ],
      "execution_count": 222,
      "outputs": [
        {
          "output_type": "stream",
          "text": [
            "Model: \"model_42\"\n",
            "_________________________________________________________________\n",
            "Layer (type)                 Output Shape              Param #   \n",
            "=================================================================\n",
            "input_43 (InputLayer)        (None, 4, 4, 8)           0         \n",
            "_________________________________________________________________\n",
            "up_sampling2d_60 (UpSampling (None, 8, 8, 8)           0         \n",
            "_________________________________________________________________\n",
            "conv2d_141 (Conv2D)          (None, 8, 8, 8)           584       \n",
            "_________________________________________________________________\n",
            "up_sampling2d_61 (UpSampling (None, 16, 16, 8)         0         \n",
            "_________________________________________________________________\n",
            "conv2d_142 (Conv2D)          (None, 16, 16, 8)         584       \n",
            "_________________________________________________________________\n",
            "up_sampling2d_62 (UpSampling (None, 32, 32, 8)         0         \n",
            "_________________________________________________________________\n",
            "conv2d_143 (Conv2D)          (None, 32, 32, 3)         219       \n",
            "=================================================================\n",
            "Total params: 1,387\n",
            "Trainable params: 1,387\n",
            "Non-trainable params: 0\n",
            "_________________________________________________________________\n"
          ],
          "name": "stdout"
        }
      ]
    },
    {
      "cell_type": "code",
      "metadata": {
        "id": "n5q7kX3JV3yy",
        "colab_type": "code",
        "colab": {}
      },
      "source": [
        "a = autoencoder.predict(np.expand_dims(testing_images[0],axis=0))"
      ],
      "execution_count": 223,
      "outputs": []
    },
    {
      "cell_type": "code",
      "metadata": {
        "id": "4lVoMEInWYoi",
        "colab_type": "code",
        "colab": {
          "base_uri": "https://localhost:8080/",
          "height": 282
        },
        "outputId": "8fe846dd-33cf-4a3d-8e8f-32d3704e8476"
      },
      "source": [
        "plt.imshow(testing_images[0])"
      ],
      "execution_count": 224,
      "outputs": [
        {
          "output_type": "execute_result",
          "data": {
            "text/plain": [
              "<matplotlib.image.AxesImage at 0x7fedd9f0bb70>"
            ]
          },
          "metadata": {
            "tags": []
          },
          "execution_count": 224
        },
        {
          "output_type": "display_data",
          "data": {
            "image/png": "[encoded data removed]",
            "text/plain": [
              "<Figure size 432x288 with 1 Axes>"
            ]
          },
          "metadata": {
            "tags": [],
            "needs_background": "light"
          }
        }
      ]
    },
    {
      "cell_type": "code",
      "metadata": {
        "id": "8n1eA9tUV313",
        "colab_type": "code",
        "colab": {
          "base_uri": "https://localhost:8080/",
          "height": 282
        },
        "outputId": "6c61d4ad-7773-4b5f-c378-ed89d3fa4614"
      },
      "source": [
        "plt.imshow(np.squeeze(a))"
      ],
      "execution_count": 225,
      "outputs": [
        {
          "output_type": "execute_result",
          "data": {
            "text/plain": [
              "<matplotlib.image.AxesImage at 0x7fedd9f6d908>"
            ]
          },
          "metadata": {
            "tags": []
          },
          "execution_count": 225
        },
        {
          "output_type": "display_data",
          "data": {
            "image/png": "[encoded data removed]",
            "text/plain": [
              "<Figure size 432x288 with 1 Axes>"
            ]
          },
          "metadata": {
            "tags": [],
            "needs_background": "light"
          }
        }
      ]
    },
    {
      "cell_type": "code",
      "metadata": {
        "id": "2zuG0cixXn9n",
        "colab_type": "code",
        "colab": {}
      },
      "source": [
        "encoder = Model(input_img,encoded)"
      ],
      "execution_count": 183,
      "outputs": []
    },
    {
      "cell_type": "code",
      "metadata": {
        "id": "2Nju_XloYz2m",
        "colab_type": "code",
        "colab": {}
      },
      "source": [
        "encoded_imgs = encoder.predict(testing_images)"
      ],
      "execution_count": 276,
      "outputs": []
    },
    {
      "cell_type": "code",
      "metadata": {
        "id": "K-jTSD0PYyte",
        "colab_type": "code",
        "colab": {
          "base_uri": "https://localhost:8080/",
          "height": 469
        },
        "outputId": "91afd49f-ce49-4561-acb1-04ad4064df79"
      },
      "source": [
        "n = 10\n",
        "plt.figure(figsize=(20, 8))\n",
        "for i in range(1,n):\n",
        "    ax = plt.subplot(1, n, i)\n",
        "    plt.imshow(encoded_imgs[i].reshape(4, 4 * 8).T)\n",
        "    plt.gray()\n",
        "    ax.get_xaxis().set_visible(False)\n",
        "    ax.get_yaxis().set_visible(False)\n",
        "plt.show()"
      ],
      "execution_count": 277,
      "outputs": [
        {
          "output_type": "display_data",
          "data": {
            "image/png": "[encoded data removed]",
            "text/plain": [
              "<Figure size 1440x576 with 9 Axes>"
            ]
          },
          "metadata": {
            "tags": [],
            "needs_background": "light"
          }
        }
      ]
    },
    {
      "cell_type": "code",
      "metadata": {
        "id": "MGVtc1iJjFML",
        "colab_type": "code",
        "colab": {}
      },
      "source": [
        "decoded_imgs = decoder.predict(encoded_imgs)"
      ],
      "execution_count": 278,
      "outputs": []
    },
    {
      "cell_type": "code",
      "metadata": {
        "id": "A_eCN5UajMUH",
        "colab_type": "code",
        "colab": {
          "base_uri": "https://localhost:8080/",
          "height": 196
        },
        "outputId": "758c4366-9020-4205-a6ac-364dfa7ecef9"
      },
      "source": [
        "n = 10\n",
        "plt.figure(figsize=(20, 8))\n",
        "for i in range(1,n):\n",
        "    ax = plt.subplot(1, n, i)\n",
        "    plt.imshow(decoded_imgs[i])\n",
        "    ax.get_xaxis().set_visible(False)\n",
        "    ax.get_yaxis().set_visible(False)\n",
        "plt.show()"
      ],
      "execution_count": 279,
      "outputs": [
        {
          "output_type": "stream",
          "text": [
            "Clipping input data to the valid range for imshow with RGB data ([0..1] for floats or [0..255] for integers).\n",
            "Clipping input data to the valid range for imshow with RGB data ([0..1] for floats or [0..255] for integers).\n",
            "Clipping input data to the valid range for imshow with RGB data ([0..1] for floats or [0..255] for integers).\n",
            "Clipping input data to the valid range for imshow with RGB data ([0..1] for floats or [0..255] for integers).\n"
          ],
          "name": "stderr"
        },
        {
          "output_type": "display_data",
          "data": {
            "image/png": "[encoded data removed]",
            "text/plain": [
              "<Figure size 1440x576 with 9 Axes>"
            ]
          },
          "metadata": {
            "tags": [],
            "needs_background": "light"
          }
        }
      ]
    },
    {
      "cell_type": "code",
      "metadata": {
        "id": "PRnCmQXcjXK-",
        "colab_type": "code",
        "colab": {}
      },
      "source": [
        "final_model = Sequential()"
      ],
      "execution_count": 296,
      "outputs": []
    },
    {
      "cell_type": "code",
      "metadata": {
        "id": "dKQk70bzjf61",
        "colab_type": "code",
        "colab": {}
      },
      "source": [
        "\n",
        "final_model.add(Conv2D(16, (3, 3), activation='relu', padding='same',input_shape = (32,32,3)))\n",
        "final_model.add(MaxPooling2D((2, 2), padding='same'))\n",
        "final_model.add(Conv2D(8, (3, 3), activation='relu', padding='same'))\n",
        "final_model.add(MaxPooling2D((2, 2), padding='same'))\n",
        "final_model.add(Conv2D(8, (3, 3), activation='relu', padding='same'))\n",
        "final_model.add(MaxPooling2D((2, 2), padding='same'))\n",
        "final_model.load_weights(\"/content/encoder-weights.h5\")\n",
        "for layer in final_model.layers:\n",
        "  layer.trainable = False\n",
        "final_model.add(Flatten())\n",
        "final_model.add(Dense(128,activation=\"relu\"))\n",
        "final_model.add(Dense(10,activation=\"softmax\"))"
      ],
      "execution_count": 297,
      "outputs": []
    },
    {
      "cell_type": "code",
      "metadata": {
        "id": "cgplWzFfq1TC",
        "colab_type": "code",
        "colab": {}
      },
      "source": [
        ""
      ],
      "execution_count": 283,
      "outputs": []
    },
    {
      "cell_type": "code",
      "metadata": {
        "id": "vqHkUvsQqzrB",
        "colab_type": "code",
        "colab": {}
      },
      "source": [
        ""
      ],
      "execution_count": null,
      "outputs": []
    },
    {
      "cell_type": "code",
      "metadata": {
        "id": "y3NWIAQBjmvj",
        "colab_type": "code",
        "colab": {
          "base_uri": "https://localhost:8080/",
          "height": 450
        },
        "outputId": "f93276e0-8c1d-4150-c788-a96e18cd65b9"
      },
      "source": [
        "final_model.summary()"
      ],
      "execution_count": 298,
      "outputs": [
        {
          "output_type": "stream",
          "text": [
            "Model: \"sequential_20\"\n",
            "_________________________________________________________________\n",
            "Layer (type)                 Output Shape              Param #   \n",
            "=================================================================\n",
            "conv2d_153 (Conv2D)          (None, 32, 32, 16)        448       \n",
            "_________________________________________________________________\n",
            "max_pooling2d_79 (MaxPooling (None, 16, 16, 16)        0         \n",
            "_________________________________________________________________\n",
            "conv2d_154 (Conv2D)          (None, 16, 16, 8)         1160      \n",
            "_________________________________________________________________\n",
            "max_pooling2d_80 (MaxPooling (None, 8, 8, 8)           0         \n",
            "_________________________________________________________________\n",
            "conv2d_155 (Conv2D)          (None, 8, 8, 8)           584       \n",
            "_________________________________________________________________\n",
            "max_pooling2d_81 (MaxPooling (None, 4, 4, 8)           0         \n",
            "_________________________________________________________________\n",
            "flatten_14 (Flatten)         (None, 128)               0         \n",
            "_________________________________________________________________\n",
            "dense_14 (Dense)             (None, 128)               16512     \n",
            "_________________________________________________________________\n",
            "dense_15 (Dense)             (None, 10)                1290      \n",
            "=================================================================\n",
            "Total params: 19,994\n",
            "Trainable params: 17,802\n",
            "Non-trainable params: 2,192\n",
            "_________________________________________________________________\n"
          ],
          "name": "stdout"
        }
      ]
    },
    {
      "cell_type": "code",
      "metadata": {
        "id": "gzMywyXrkIxq",
        "colab_type": "code",
        "colab": {}
      },
      "source": [
        "batch_size = 32\n",
        "num_classes = 10\n",
        "epochs = 100\n",
        "data_augmentation = True\n",
        "num_predictions = 20\n",
        "y_train = keras.utils.to_categorical(training_labels, num_classes)\n",
        "y_test = keras.utils.to_categorical(testing_labels, num_classes)"
      ],
      "execution_count": 299,
      "outputs": []
    },
    {
      "cell_type": "code",
      "metadata": {
        "id": "G8t5kG9bkhh4",
        "colab_type": "code",
        "colab": {}
      },
      "source": [
        "x_train = training_images\n",
        "x_test = testing_images"
      ],
      "execution_count": 247,
      "outputs": []
    },
    {
      "cell_type": "code",
      "metadata": {
        "id": "WB9beWpgkdaZ",
        "colab_type": "code",
        "colab": {}
      },
      "source": [
        "final_model.compile(loss='categorical_crossentropy',\n",
        "              optimizer=\"adam\",\n",
        "              metrics=['accuracy'])"
      ],
      "execution_count": 301,
      "outputs": []
    },
    {
      "cell_type": "code",
      "metadata": {
        "id": "u8fKagu0kvHg",
        "colab_type": "code",
        "colab": {
          "base_uri": "https://localhost:8080/",
          "height": 83
        },
        "outputId": "5742f77e-d139-43f6-c47c-79ec87c8549e"
      },
      "source": [
        "final_model.layers"
      ],
      "execution_count": 268,
      "outputs": [
        {
          "output_type": "execute_result",
          "data": {
            "text/plain": [
              "[<keras.engine.training.Model at 0x7fedda30a898>,\n",
              " <keras.layers.core.Flatten at 0x7fedd91affd0>,\n",
              " <keras.layers.core.Dense at 0x7fedd91b40b8>,\n",
              " <keras.layers.core.Dense at 0x7fedd91b4198>]"
            ]
          },
          "metadata": {
            "tags": []
          },
          "execution_count": 268
        }
      ]
    },
    {
      "cell_type": "code",
      "metadata": {
        "id": "BSe1XRnRkvNr",
        "colab_type": "code",
        "colab": {}
      },
      "source": [
        "x_train = x_train.astype('float32')\n",
        "x_test = x_test.astype('float32')"
      ],
      "execution_count": 249,
      "outputs": []
    },
    {
      "cell_type": "code",
      "metadata": {
        "id": "2VPjUOodkvKl",
        "colab_type": "code",
        "colab": {}
      },
      "source": [
        ""
      ],
      "execution_count": 261,
      "outputs": []
    },
    {
      "cell_type": "code",
      "metadata": {
        "id": "EU0k5hwkkvGT",
        "colab_type": "code",
        "colab": {
          "base_uri": "https://localhost:8080/",
          "height": 1000
        },
        "outputId": "f0091058-c2d5-4664-aaf4-0a83981bad71"
      },
      "source": [
        "final_model.fit(x_train, y_train,\n",
        "              batch_size=batch_size,\n",
        "              epochs=epochs,\n",
        "              validation_data=(x_test, y_test),\n",
        "              shuffle=True)"
      ],
      "execution_count": 302,
      "outputs": [
        {
          "output_type": "stream",
          "text": [
            "Train on 50000 samples, validate on 10000 samples\n",
            "Epoch 1/100\n",
            "50000/50000 [==============================] - 9s 180us/step - loss: 1.9136 - accuracy: 0.3178 - val_loss: 1.7924 - val_accuracy: 0.3716\n",
            "Epoch 2/100\n",
            "50000/50000 [==============================] - 10s 198us/step - loss: 1.7425 - accuracy: 0.3808 - val_loss: 1.6829 - val_accuracy: 0.4021\n",
            "Epoch 3/100\n",
            "50000/50000 [==============================] - 9s 178us/step - loss: 1.6707 - accuracy: 0.4081 - val_loss: 1.6339 - val_accuracy: 0.4151\n",
            "Epoch 4/100\n",
            "50000/50000 [==============================] - 9s 176us/step - loss: 1.6236 - accuracy: 0.4244 - val_loss: 1.6120 - val_accuracy: 0.4237\n",
            "Epoch 5/100\n",
            "50000/50000 [==============================] - 9s 176us/step - loss: 1.5889 - accuracy: 0.4369 - val_loss: 1.5800 - val_accuracy: 0.4368\n",
            "Epoch 6/100\n",
            "50000/50000 [==============================] - 9s 176us/step - loss: 1.5653 - accuracy: 0.4435 - val_loss: 1.5516 - val_accuracy: 0.4480\n",
            "Epoch 7/100\n",
            "50000/50000 [==============================] - 9s 175us/step - loss: 1.5453 - accuracy: 0.4513 - val_loss: 1.5430 - val_accuracy: 0.4556\n",
            "Epoch 8/100\n",
            "50000/50000 [==============================] - 9s 175us/step - loss: 1.5303 - accuracy: 0.4584 - val_loss: 1.5078 - val_accuracy: 0.4633\n",
            "Epoch 9/100\n",
            "50000/50000 [==============================] - 9s 176us/step - loss: 1.5159 - accuracy: 0.4619 - val_loss: 1.4972 - val_accuracy: 0.4632\n",
            "Epoch 10/100\n",
            "50000/50000 [==============================] - 9s 185us/step - loss: 1.5077 - accuracy: 0.4659 - val_loss: 1.4992 - val_accuracy: 0.4639\n",
            "Epoch 11/100\n",
            "50000/50000 [==============================] - 9s 176us/step - loss: 1.4957 - accuracy: 0.4700 - val_loss: 1.5108 - val_accuracy: 0.4630\n",
            "Epoch 12/100\n",
            "50000/50000 [==============================] - 9s 176us/step - loss: 1.4891 - accuracy: 0.4721 - val_loss: 1.5053 - val_accuracy: 0.4656\n",
            "Epoch 13/100\n",
            "50000/50000 [==============================] - 9s 176us/step - loss: 1.4806 - accuracy: 0.4755 - val_loss: 1.4845 - val_accuracy: 0.4717\n",
            "Epoch 14/100\n",
            "50000/50000 [==============================] - 9s 175us/step - loss: 1.4711 - accuracy: 0.4797 - val_loss: 1.4753 - val_accuracy: 0.4751\n",
            "Epoch 15/100\n",
            "50000/50000 [==============================] - 9s 176us/step - loss: 1.4644 - accuracy: 0.4813 - val_loss: 1.4899 - val_accuracy: 0.4729\n",
            "Epoch 16/100\n",
            "50000/50000 [==============================] - 9s 177us/step - loss: 1.4570 - accuracy: 0.4860 - val_loss: 1.4678 - val_accuracy: 0.4829\n",
            "Epoch 17/100\n",
            "50000/50000 [==============================] - 9s 176us/step - loss: 1.4522 - accuracy: 0.4852 - val_loss: 1.4697 - val_accuracy: 0.4778\n",
            "Epoch 18/100\n",
            "50000/50000 [==============================] - 9s 178us/step - loss: 1.4465 - accuracy: 0.4875 - val_loss: 1.4634 - val_accuracy: 0.4802\n",
            "Epoch 19/100\n",
            "50000/50000 [==============================] - 9s 178us/step - loss: 1.4403 - accuracy: 0.4918 - val_loss: 1.4648 - val_accuracy: 0.4762\n",
            "Epoch 20/100\n",
            "50000/50000 [==============================] - 9s 178us/step - loss: 1.4359 - accuracy: 0.4918 - val_loss: 1.4630 - val_accuracy: 0.4736\n",
            "Epoch 21/100\n",
            "50000/50000 [==============================] - 9s 178us/step - loss: 1.4320 - accuracy: 0.4934 - val_loss: 1.4569 - val_accuracy: 0.4836\n",
            "Epoch 22/100\n",
            "50000/50000 [==============================] - 9s 176us/step - loss: 1.4256 - accuracy: 0.4945 - val_loss: 1.4667 - val_accuracy: 0.4799\n",
            "Epoch 23/100\n",
            "50000/50000 [==============================] - 9s 175us/step - loss: 1.4227 - accuracy: 0.4960 - val_loss: 1.4480 - val_accuracy: 0.4830\n",
            "Epoch 24/100\n",
            "50000/50000 [==============================] - 9s 177us/step - loss: 1.4161 - accuracy: 0.4989 - val_loss: 1.4468 - val_accuracy: 0.4948\n",
            "Epoch 25/100\n",
            "50000/50000 [==============================] - 9s 177us/step - loss: 1.4125 - accuracy: 0.5009 - val_loss: 1.4440 - val_accuracy: 0.4838\n",
            "Epoch 26/100\n",
            "50000/50000 [==============================] - 9s 177us/step - loss: 1.4074 - accuracy: 0.5044 - val_loss: 1.4505 - val_accuracy: 0.4815\n",
            "Epoch 27/100\n",
            "50000/50000 [==============================] - 9s 177us/step - loss: 1.4035 - accuracy: 0.5048 - val_loss: 1.4499 - val_accuracy: 0.4861\n",
            "Epoch 28/100\n",
            "50000/50000 [==============================] - 9s 179us/step - loss: 1.3999 - accuracy: 0.5064 - val_loss: 1.4326 - val_accuracy: 0.4942\n",
            "Epoch 29/100\n",
            "50000/50000 [==============================] - 9s 179us/step - loss: 1.3973 - accuracy: 0.5052 - val_loss: 1.4479 - val_accuracy: 0.4833\n",
            "Epoch 30/100\n",
            "50000/50000 [==============================] - 9s 178us/step - loss: 1.3935 - accuracy: 0.5081 - val_loss: 1.4197 - val_accuracy: 0.4966\n",
            "Epoch 31/100\n",
            "50000/50000 [==============================] - 9s 179us/step - loss: 1.3881 - accuracy: 0.5100 - val_loss: 1.4271 - val_accuracy: 0.4946\n",
            "Epoch 32/100\n",
            "50000/50000 [==============================] - 9s 176us/step - loss: 1.3849 - accuracy: 0.5116 - val_loss: 1.4153 - val_accuracy: 0.4970\n",
            "Epoch 33/100\n",
            "50000/50000 [==============================] - 9s 177us/step - loss: 1.3815 - accuracy: 0.5109 - val_loss: 1.4180 - val_accuracy: 0.4979\n",
            "Epoch 34/100\n",
            "50000/50000 [==============================] - 9s 176us/step - loss: 1.3781 - accuracy: 0.5135 - val_loss: 1.4535 - val_accuracy: 0.4820\n",
            "Epoch 35/100\n",
            "50000/50000 [==============================] - 9s 176us/step - loss: 1.3747 - accuracy: 0.5154 - val_loss: 1.4481 - val_accuracy: 0.4892\n",
            "Epoch 36/100\n",
            "50000/50000 [==============================] - 9s 176us/step - loss: 1.3736 - accuracy: 0.5166 - val_loss: 1.4036 - val_accuracy: 0.5051\n",
            "Epoch 37/100\n",
            "50000/50000 [==============================] - 10s 196us/step - loss: 1.3697 - accuracy: 0.5177 - val_loss: 1.4254 - val_accuracy: 0.4968\n",
            "Epoch 38/100\n",
            "50000/50000 [==============================] - 9s 179us/step - loss: 1.3667 - accuracy: 0.5193 - val_loss: 1.4319 - val_accuracy: 0.4862\n",
            "Epoch 39/100\n",
            "50000/50000 [==============================] - 9s 178us/step - loss: 1.3654 - accuracy: 0.5173 - val_loss: 1.4178 - val_accuracy: 0.4988\n",
            "Epoch 40/100\n",
            "50000/50000 [==============================] - 9s 176us/step - loss: 1.3616 - accuracy: 0.5206 - val_loss: 1.4435 - val_accuracy: 0.4922\n",
            "Epoch 41/100\n",
            "   32/50000 [..............................] - ETA: 15s - loss: 1.6698 - accuracy: 0.4062"
          ],
          "name": "stdout"
        },
        {
          "output_type": "error",
          "ename": "KeyboardInterrupt",
          "evalue": "ignored",
          "traceback": [
            "\u001b[0;31m---------------------------------------------------------------------------\u001b[0m",
            "\u001b[0;31mKeyboardInterrupt\u001b[0m                         Traceback (most recent call last)",
            "\u001b[0;32m<ipython-input-302-6ed3acd47fc4>\u001b[0m in \u001b[0;36m<module>\u001b[0;34m()\u001b[0m\n\u001b[1;32m      3\u001b[0m               \u001b[0mepochs\u001b[0m\u001b[0;34m=\u001b[0m\u001b[0mepochs\u001b[0m\u001b[0;34m,\u001b[0m\u001b[0;34m\u001b[0m\u001b[0;34m\u001b[0m\u001b[0m\n\u001b[1;32m      4\u001b[0m               \u001b[0mvalidation_data\u001b[0m\u001b[0;34m=\u001b[0m\u001b[0;34m(\u001b[0m\u001b[0mx_test\u001b[0m\u001b[0;34m,\u001b[0m \u001b[0my_test\u001b[0m\u001b[0;34m)\u001b[0m\u001b[0;34m,\u001b[0m\u001b[0;34m\u001b[0m\u001b[0;34m\u001b[0m\u001b[0m\n\u001b[0;32m----> 5\u001b[0;31m               shuffle=True)\n\u001b[0m",
            "\u001b[0;32m/usr/local/lib/python3.6/dist-packages/keras/engine/training.py\u001b[0m in \u001b[0;36mfit\u001b[0;34m(self, x, y, batch_size, epochs, verbose, callbacks, validation_split, validation_data, shuffle, class_weight, sample_weight, initial_epoch, steps_per_epoch, validation_steps, validation_freq, max_queue_size, workers, use_multiprocessing, **kwargs)\u001b[0m\n\u001b[1;32m   1237\u001b[0m                                         \u001b[0msteps_per_epoch\u001b[0m\u001b[0;34m=\u001b[0m\u001b[0msteps_per_epoch\u001b[0m\u001b[0;34m,\u001b[0m\u001b[0;34m\u001b[0m\u001b[0;34m\u001b[0m\u001b[0m\n\u001b[1;32m   1238\u001b[0m                                         \u001b[0mvalidation_steps\u001b[0m\u001b[0;34m=\u001b[0m\u001b[0mvalidation_steps\u001b[0m\u001b[0;34m,\u001b[0m\u001b[0;34m\u001b[0m\u001b[0;34m\u001b[0m\u001b[0m\n\u001b[0;32m-> 1239\u001b[0;31m                                         validation_freq=validation_freq)\n\u001b[0m\u001b[1;32m   1240\u001b[0m \u001b[0;34m\u001b[0m\u001b[0m\n\u001b[1;32m   1241\u001b[0m     def evaluate(self,\n",
            "\u001b[0;32m/usr/local/lib/python3.6/dist-packages/keras/engine/training_arrays.py\u001b[0m in \u001b[0;36mfit_loop\u001b[0;34m(model, fit_function, fit_inputs, out_labels, batch_size, epochs, verbose, callbacks, val_function, val_inputs, shuffle, initial_epoch, steps_per_epoch, validation_steps, validation_freq)\u001b[0m\n\u001b[1;32m    194\u001b[0m                     \u001b[0mins_batch\u001b[0m\u001b[0;34m[\u001b[0m\u001b[0mi\u001b[0m\u001b[0;34m]\u001b[0m \u001b[0;34m=\u001b[0m \u001b[0mins_batch\u001b[0m\u001b[0;34m[\u001b[0m\u001b[0mi\u001b[0m\u001b[0;34m]\u001b[0m\u001b[0;34m.\u001b[0m\u001b[0mtoarray\u001b[0m\u001b[0;34m(\u001b[0m\u001b[0;34m)\u001b[0m\u001b[0;34m\u001b[0m\u001b[0;34m\u001b[0m\u001b[0m\n\u001b[1;32m    195\u001b[0m \u001b[0;34m\u001b[0m\u001b[0m\n\u001b[0;32m--> 196\u001b[0;31m                 \u001b[0mouts\u001b[0m \u001b[0;34m=\u001b[0m \u001b[0mfit_function\u001b[0m\u001b[0;34m(\u001b[0m\u001b[0mins_batch\u001b[0m\u001b[0;34m)\u001b[0m\u001b[0;34m\u001b[0m\u001b[0;34m\u001b[0m\u001b[0m\n\u001b[0m\u001b[1;32m    197\u001b[0m                 \u001b[0mouts\u001b[0m \u001b[0;34m=\u001b[0m \u001b[0mto_list\u001b[0m\u001b[0;34m(\u001b[0m\u001b[0mouts\u001b[0m\u001b[0;34m)\u001b[0m\u001b[0;34m\u001b[0m\u001b[0;34m\u001b[0m\u001b[0m\n\u001b[1;32m    198\u001b[0m                 \u001b[0;32mfor\u001b[0m \u001b[0ml\u001b[0m\u001b[0;34m,\u001b[0m \u001b[0mo\u001b[0m \u001b[0;32min\u001b[0m \u001b[0mzip\u001b[0m\u001b[0;34m(\u001b[0m\u001b[0mout_labels\u001b[0m\u001b[0;34m,\u001b[0m \u001b[0mouts\u001b[0m\u001b[0;34m)\u001b[0m\u001b[0;34m:\u001b[0m\u001b[0;34m\u001b[0m\u001b[0;34m\u001b[0m\u001b[0m\n",
            "\u001b[0;32m/usr/local/lib/python3.6/dist-packages/tensorflow/python/keras/backend.py\u001b[0m in \u001b[0;36m__call__\u001b[0;34m(self, inputs)\u001b[0m\n\u001b[1;32m   3790\u001b[0m         \u001b[0mvalue\u001b[0m \u001b[0;34m=\u001b[0m \u001b[0mmath_ops\u001b[0m\u001b[0;34m.\u001b[0m\u001b[0mcast\u001b[0m\u001b[0;34m(\u001b[0m\u001b[0mvalue\u001b[0m\u001b[0;34m,\u001b[0m \u001b[0mtensor\u001b[0m\u001b[0;34m.\u001b[0m\u001b[0mdtype\u001b[0m\u001b[0;34m)\u001b[0m\u001b[0;34m\u001b[0m\u001b[0;34m\u001b[0m\u001b[0m\n\u001b[1;32m   3791\u001b[0m       \u001b[0mconverted_inputs\u001b[0m\u001b[0;34m.\u001b[0m\u001b[0mappend\u001b[0m\u001b[0;34m(\u001b[0m\u001b[0mvalue\u001b[0m\u001b[0;34m)\u001b[0m\u001b[0;34m\u001b[0m\u001b[0;34m\u001b[0m\u001b[0m\n\u001b[0;32m-> 3792\u001b[0;31m     \u001b[0moutputs\u001b[0m \u001b[0;34m=\u001b[0m \u001b[0mself\u001b[0m\u001b[0;34m.\u001b[0m\u001b[0m_graph_fn\u001b[0m\u001b[0;34m(\u001b[0m\u001b[0;34m*\u001b[0m\u001b[0mconverted_inputs\u001b[0m\u001b[0;34m)\u001b[0m\u001b[0;34m\u001b[0m\u001b[0;34m\u001b[0m\u001b[0m\n\u001b[0m\u001b[1;32m   3793\u001b[0m \u001b[0;34m\u001b[0m\u001b[0m\n\u001b[1;32m   3794\u001b[0m     \u001b[0;31m# EagerTensor.numpy() will often make a copy to ensure memory safety.\u001b[0m\u001b[0;34m\u001b[0m\u001b[0;34m\u001b[0m\u001b[0;34m\u001b[0m\u001b[0m\n",
            "\u001b[0;32m/usr/local/lib/python3.6/dist-packages/tensorflow/python/eager/function.py\u001b[0m in \u001b[0;36m__call__\u001b[0;34m(self, *args, **kwargs)\u001b[0m\n\u001b[1;32m   1603\u001b[0m       \u001b[0mTypeError\u001b[0m\u001b[0;34m:\u001b[0m \u001b[0mFor\u001b[0m \u001b[0minvalid\u001b[0m \u001b[0mpositional\u001b[0m\u001b[0;34m/\u001b[0m\u001b[0mkeyword\u001b[0m \u001b[0margument\u001b[0m \u001b[0mcombinations\u001b[0m\u001b[0;34m.\u001b[0m\u001b[0;34m\u001b[0m\u001b[0;34m\u001b[0m\u001b[0m\n\u001b[1;32m   1604\u001b[0m     \"\"\"\n\u001b[0;32m-> 1605\u001b[0;31m     \u001b[0;32mreturn\u001b[0m \u001b[0mself\u001b[0m\u001b[0;34m.\u001b[0m\u001b[0m_call_impl\u001b[0m\u001b[0;34m(\u001b[0m\u001b[0margs\u001b[0m\u001b[0;34m,\u001b[0m \u001b[0mkwargs\u001b[0m\u001b[0;34m)\u001b[0m\u001b[0;34m\u001b[0m\u001b[0;34m\u001b[0m\u001b[0m\n\u001b[0m\u001b[1;32m   1606\u001b[0m \u001b[0;34m\u001b[0m\u001b[0m\n\u001b[1;32m   1607\u001b[0m   \u001b[0;32mdef\u001b[0m \u001b[0m_call_impl\u001b[0m\u001b[0;34m(\u001b[0m\u001b[0mself\u001b[0m\u001b[0;34m,\u001b[0m \u001b[0margs\u001b[0m\u001b[0;34m,\u001b[0m \u001b[0mkwargs\u001b[0m\u001b[0;34m,\u001b[0m \u001b[0mcancellation_manager\u001b[0m\u001b[0;34m=\u001b[0m\u001b[0;32mNone\u001b[0m\u001b[0;34m)\u001b[0m\u001b[0;34m:\u001b[0m\u001b[0;34m\u001b[0m\u001b[0;34m\u001b[0m\u001b[0m\n",
            "\u001b[0;32m/usr/local/lib/python3.6/dist-packages/tensorflow/python/eager/function.py\u001b[0m in \u001b[0;36m_call_impl\u001b[0;34m(self, args, kwargs, cancellation_manager)\u001b[0m\n\u001b[1;32m   1643\u001b[0m       raise TypeError(\"Keyword arguments {} unknown. Expected {}.\".format(\n\u001b[1;32m   1644\u001b[0m           list(kwargs.keys()), list(self._arg_keywords)))\n\u001b[0;32m-> 1645\u001b[0;31m     \u001b[0;32mreturn\u001b[0m \u001b[0mself\u001b[0m\u001b[0;34m.\u001b[0m\u001b[0m_call_flat\u001b[0m\u001b[0;34m(\u001b[0m\u001b[0margs\u001b[0m\u001b[0;34m,\u001b[0m \u001b[0mself\u001b[0m\u001b[0;34m.\u001b[0m\u001b[0mcaptured_inputs\u001b[0m\u001b[0;34m,\u001b[0m \u001b[0mcancellation_manager\u001b[0m\u001b[0;34m)\u001b[0m\u001b[0;34m\u001b[0m\u001b[0;34m\u001b[0m\u001b[0m\n\u001b[0m\u001b[1;32m   1646\u001b[0m \u001b[0;34m\u001b[0m\u001b[0m\n\u001b[1;32m   1647\u001b[0m   \u001b[0;32mdef\u001b[0m \u001b[0m_filtered_call\u001b[0m\u001b[0;34m(\u001b[0m\u001b[0mself\u001b[0m\u001b[0;34m,\u001b[0m \u001b[0margs\u001b[0m\u001b[0;34m,\u001b[0m \u001b[0mkwargs\u001b[0m\u001b[0;34m)\u001b[0m\u001b[0;34m:\u001b[0m\u001b[0;34m\u001b[0m\u001b[0;34m\u001b[0m\u001b[0m\n",
            "\u001b[0;32m/usr/local/lib/python3.6/dist-packages/tensorflow/python/eager/function.py\u001b[0m in \u001b[0;36m_call_flat\u001b[0;34m(self, args, captured_inputs, cancellation_manager)\u001b[0m\n\u001b[1;32m   1744\u001b[0m       \u001b[0;31m# No tape is watching; skip to running the function.\u001b[0m\u001b[0;34m\u001b[0m\u001b[0;34m\u001b[0m\u001b[0;34m\u001b[0m\u001b[0m\n\u001b[1;32m   1745\u001b[0m       return self._build_call_outputs(self._inference_function.call(\n\u001b[0;32m-> 1746\u001b[0;31m           ctx, args, cancellation_manager=cancellation_manager))\n\u001b[0m\u001b[1;32m   1747\u001b[0m     forward_backward = self._select_forward_and_backward_functions(\n\u001b[1;32m   1748\u001b[0m         \u001b[0margs\u001b[0m\u001b[0;34m,\u001b[0m\u001b[0;34m\u001b[0m\u001b[0;34m\u001b[0m\u001b[0m\n",
            "\u001b[0;32m/usr/local/lib/python3.6/dist-packages/tensorflow/python/eager/function.py\u001b[0m in \u001b[0;36mcall\u001b[0;34m(self, ctx, args, cancellation_manager)\u001b[0m\n\u001b[1;32m    596\u001b[0m               \u001b[0minputs\u001b[0m\u001b[0;34m=\u001b[0m\u001b[0margs\u001b[0m\u001b[0;34m,\u001b[0m\u001b[0;34m\u001b[0m\u001b[0;34m\u001b[0m\u001b[0m\n\u001b[1;32m    597\u001b[0m               \u001b[0mattrs\u001b[0m\u001b[0;34m=\u001b[0m\u001b[0mattrs\u001b[0m\u001b[0;34m,\u001b[0m\u001b[0;34m\u001b[0m\u001b[0;34m\u001b[0m\u001b[0m\n\u001b[0;32m--> 598\u001b[0;31m               ctx=ctx)\n\u001b[0m\u001b[1;32m    599\u001b[0m         \u001b[0;32melse\u001b[0m\u001b[0;34m:\u001b[0m\u001b[0;34m\u001b[0m\u001b[0;34m\u001b[0m\u001b[0m\n\u001b[1;32m    600\u001b[0m           outputs = execute.execute_with_cancellation(\n",
            "\u001b[0;32m/usr/local/lib/python3.6/dist-packages/tensorflow/python/eager/execute.py\u001b[0m in \u001b[0;36mquick_execute\u001b[0;34m(op_name, num_outputs, inputs, attrs, ctx, name)\u001b[0m\n\u001b[1;32m     58\u001b[0m     \u001b[0mctx\u001b[0m\u001b[0;34m.\u001b[0m\u001b[0mensure_initialized\u001b[0m\u001b[0;34m(\u001b[0m\u001b[0;34m)\u001b[0m\u001b[0;34m\u001b[0m\u001b[0;34m\u001b[0m\u001b[0m\n\u001b[1;32m     59\u001b[0m     tensors = pywrap_tfe.TFE_Py_Execute(ctx._handle, device_name, op_name,\n\u001b[0;32m---> 60\u001b[0;31m                                         inputs, attrs, num_outputs)\n\u001b[0m\u001b[1;32m     61\u001b[0m   \u001b[0;32mexcept\u001b[0m \u001b[0mcore\u001b[0m\u001b[0;34m.\u001b[0m\u001b[0m_NotOkStatusException\u001b[0m \u001b[0;32mas\u001b[0m \u001b[0me\u001b[0m\u001b[0;34m:\u001b[0m\u001b[0;34m\u001b[0m\u001b[0;34m\u001b[0m\u001b[0m\n\u001b[1;32m     62\u001b[0m     \u001b[0;32mif\u001b[0m \u001b[0mname\u001b[0m \u001b[0;32mis\u001b[0m \u001b[0;32mnot\u001b[0m \u001b[0;32mNone\u001b[0m\u001b[0;34m:\u001b[0m\u001b[0;34m\u001b[0m\u001b[0;34m\u001b[0m\u001b[0m\n",
            "\u001b[0;31mKeyboardInterrupt\u001b[0m: "
          ]
        }
      ]
    },
    {
      "cell_type": "code",
      "metadata": {
        "id": "jJk0SLnzp5fc",
        "colab_type": "code",
        "colab": {}
      },
      "source": [
        "#as you can see the encoder and decoder architecture are quite small we get less accuracy and also cifar 10 is 32 x 32 x 3 low resolution images so try to add more layers to the model"
      ],
      "execution_count": null,
      "outputs": []
    }
  ]
}